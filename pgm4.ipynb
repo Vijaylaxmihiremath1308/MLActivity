{
  "nbformat": 4,
  "nbformat_minor": 0,
  "metadata": {
    "colab": {
      "provenance": [],
      "mount_file_id": "1jY2jVInI08DUppqw8SKUV5vSSlleD-f_",
      "authorship_tag": "ABX9TyOOyhvzLL9ZYEVlO4OAGW+t",
      "include_colab_link": true
    },
    "kernelspec": {
      "name": "python3",
      "display_name": "Python 3"
    },
    "language_info": {
      "name": "python"
    }
  },
  "cells": [
    {
      "cell_type": "markdown",
      "metadata": {
        "id": "view-in-github",
        "colab_type": "text"
      },
      "source": [
        "<a href=\"https://colab.research.google.com/github/Vijaylaxmihiremath1308/MLActivity/blob/main/pgm4.ipynb\" target=\"_parent\"><img src=\"https://colab.research.google.com/assets/colab-badge.svg\" alt=\"Open In Colab\"/></a>"
      ]
    },
    {
      "cell_type": "code",
      "execution_count": null,
      "metadata": {
        "colab": {
          "base_uri": "https://localhost:8080/"
        },
        "id": "y5PjPZxQTYLw",
        "outputId": "eaec8b15-cf45-4bce-e20e-45f3dddcadd4"
      },
      "outputs": [
        {
          "output_type": "stream",
          "name": "stdout",
          "text": [
            "The dataset is:\n",
            "      sky airtemp humidity    wind water forecast enjoy\n",
            "0  sunny    warm   normal  strong  warm     same     Y\n",
            "1  sunny    warm     high  strong  warm     same     Y\n",
            "2  rainy    cold     high  strong  warm   change     N\n",
            "3  sunny    warm     high  strong  cool   change     Y\n"
          ]
        }
      ],
      "source": [
        "import pandas as pd\n",
        "df = pd.read_csv(\"/content/drive/MyDrive/enjoysport.csv\")\n",
        "print('The dataset is:\\n', df)"
      ]
    },
    {
      "cell_type": "code",
      "source": [
        "data = df.iloc[0:, 0:7].values\n"
      ],
      "metadata": {
        "id": "80B2NBtFWZVS"
      },
      "execution_count": null,
      "outputs": []
    },
    {
      "cell_type": "code",
      "source": [
        "h = ['0','0','0','0','0','0']\n"
      ],
      "metadata": {
        "id": "8FtF8S2aWZS6"
      },
      "execution_count": null,
      "outputs": []
    },
    {
      "cell_type": "code",
      "source": [
        "def Generalize(h, a):\n",
        "    for i in range(len(a)):\n",
        "        if(h[i] != a[i]):\n",
        "            h[i] = '?'\n",
        "        else:\n",
        "            h[i] = a[i]\n",
        "    return(h)"
      ],
      "metadata": {
        "id": "XAOSbP-uWZQG"
      },
      "execution_count": null,
      "outputs": []
    },
    {
      "cell_type": "code",
      "source": [
        "X = data[:, 0:6]\n",
        "Y = data[:, -1]\n",
        "if Y[0] == \"Y\":\n",
        "    h = X[0,:]\n",
        "else:\n",
        "    print(\"Error: First Example in not positive\")\n",
        "\n",
        "for i in range(len(X)):\n",
        "    if(Y[i] == \"Y\"):\n",
        "        h = Generalize(h,X[i,:])\n",
        "\n",
        "print(\"The more general than hypothesis is:\", h)"
      ],
      "metadata": {
        "colab": {
          "base_uri": "https://localhost:8080/"
        },
        "id": "-3FN6uGCWZNM",
        "outputId": "cde36242-72eb-4a9b-a2e8-3315ae614dab"
      },
      "execution_count": null,
      "outputs": [
        {
          "output_type": "stream",
          "name": "stdout",
          "text": [
            "The more general than hypothesis is: ['sunny' 'warm' '?' 'strong' '?' '?']\n"
          ]
        }
      ]
    }
  ]
}