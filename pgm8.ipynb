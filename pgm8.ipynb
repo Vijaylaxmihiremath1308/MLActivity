{
  "nbformat": 4,
  "nbformat_minor": 0,
  "metadata": {
    "colab": {
      "provenance": [],
      "mount_file_id": "1ZAnOGUHJKFuL-GDimZiHaYkWGFfg4q9C",
      "authorship_tag": "ABX9TyOBN9nc6pe5Zi6Rbl8HYo+K",
      "include_colab_link": true
    },
    "kernelspec": {
      "name": "python3",
      "display_name": "Python 3"
    },
    "language_info": {
      "name": "python"
    }
  },
  "cells": [
    {
      "cell_type": "markdown",
      "metadata": {
        "id": "view-in-github",
        "colab_type": "text"
      },
      "source": [
        "<a href=\"https://colab.research.google.com/github/Vijaylaxmihiremath1308/MLActivity/blob/main/pgm8.ipynb\" target=\"_parent\"><img src=\"https://colab.research.google.com/assets/colab-badge.svg\" alt=\"Open In Colab\"/></a>"
      ]
    },
    {
      "cell_type": "code",
      "execution_count": null,
      "metadata": {
        "id": "sSwYiyrE0bi7"
      },
      "outputs": [],
      "source": [
        "import pandas as pd\n",
        "from sklearn.tree import DecisionTreeClassifier"
      ]
    },
    {
      "cell_type": "code",
      "source": [
        "dataset = pd.read_csv('/content/drive/MyDrive/zoo.csv') #Consists of 100 entries.\n",
        "dataset.info()"
      ],
      "metadata": {
        "colab": {
          "base_uri": "https://localhost:8080/"
        },
        "id": "B6eIb_nf0sLs",
        "outputId": "d068b1fe-fb89-4109-89bc-e951e4a0413a"
      },
      "execution_count": null,
      "outputs": [
        {
          "output_type": "stream",
          "name": "stdout",
          "text": [
            "<class 'pandas.core.frame.DataFrame'>\n",
            "RangeIndex: 101 entries, 0 to 100\n",
            "Data columns (total 18 columns):\n",
            " #   Column       Non-Null Count  Dtype \n",
            "---  ------       --------------  ----- \n",
            " 0   animal_name  101 non-null    object\n",
            " 1   hair         101 non-null    int64 \n",
            " 2   feathers     101 non-null    int64 \n",
            " 3   eggs         101 non-null    int64 \n",
            " 4   milk         101 non-null    int64 \n",
            " 5   airborne     101 non-null    int64 \n",
            " 6   aquatic      101 non-null    int64 \n",
            " 7   predator     101 non-null    int64 \n",
            " 8   toothed      101 non-null    int64 \n",
            " 9   backbone     101 non-null    int64 \n",
            " 10  breathes     101 non-null    int64 \n",
            " 11  venomous     101 non-null    int64 \n",
            " 12  fins         101 non-null    int64 \n",
            " 13  legs         101 non-null    int64 \n",
            " 14  tail         101 non-null    int64 \n",
            " 15  domestic     101 non-null    int64 \n",
            " 16  catsize      101 non-null    int64 \n",
            " 17  class_type   101 non-null    int64 \n",
            "dtypes: int64(17), object(1)\n",
            "memory usage: 14.3+ KB\n"
          ]
        }
      ]
    },
    {
      "cell_type": "code",
      "source": [
        "dataset = dataset=dataset.drop('animal_name',axis=1) #Drop animal_name cloumn\n"
      ],
      "metadata": {
        "id": "phHC0pfA0sJm"
      },
      "execution_count": null,
      "outputs": []
    },
    {
      "cell_type": "code",
      "source": [
        "percentage_of_data = 80\n",
        "train_features = dataset.iloc[:percentage_of_data,:-1]  #first eighty entries are considered for trainging\n",
        "train_labels = dataset.iloc[:percentage_of_data,-1]\n",
        "\n",
        "test_features = dataset.iloc[percentage_of_data:,:-1] #Next twenty entries are considered for testing\n",
        "test_labels = dataset.iloc[percentage_of_data:,-1]"
      ],
      "metadata": {
        "id": "L49WGOp10sHR"
      },
      "execution_count": null,
      "outputs": []
    },
    {
      "cell_type": "code",
      "source": [
        "#training the model\n",
        "tree_model = DecisionTreeClassifier(criterion = 'entropy') # Creating model\n",
        "fit_tree_model = tree_model.fit(train_features,train_labels) # fit the model to training data"
      ],
      "metadata": {
        "id": "e4JeJhrz0sFN"
      },
      "execution_count": null,
      "outputs": []
    },
    {
      "cell_type": "code",
      "source": [
        "prediction = fit_tree_model.predict(test_features) # Test the model for prediction\n",
        "print(\"The predicted labels are: \", prediction)"
      ],
      "metadata": {
        "colab": {
          "base_uri": "https://localhost:8080/"
        },
        "id": "0c0EuvMd02_n",
        "outputId": "7981bd8f-608c-4a7d-c3fe-a2fe54bb2eb2"
      },
      "execution_count": null,
      "outputs": [
        {
          "output_type": "stream",
          "name": "stdout",
          "text": [
            "The predicted labels are:  [3 6 4 2 1 7 4 2 6 5 5 5 4 1 1 2 1 6 1 6 2]\n"
          ]
        }
      ]
    },
    {
      "cell_type": "code",
      "source": [
        "# Compute the metrics. Metric used here is accuracy\n",
        "accuracy = (prediction == test_labels).sum() / len(test_labels) # Accuracy of the model\n",
        "print(\"The accuracy of the model is: \", round(accuracy*100,2), \"%\") # Print the accuracy"
      ],
      "metadata": {
        "colab": {
          "base_uri": "https://localhost:8080/"
        },
        "id": "4j0D8Y6z0291",
        "outputId": "ef9019a9-ddf4-4c15-d72c-99fa9bdcf1c6"
      },
      "execution_count": null,
      "outputs": [
        {
          "output_type": "stream",
          "name": "stdout",
          "text": [
            "The accuracy of the model is:  80.95 %\n"
          ]
        }
      ]
    }
  ]
}